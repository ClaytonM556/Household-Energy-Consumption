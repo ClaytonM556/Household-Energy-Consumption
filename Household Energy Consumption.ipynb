{
 "cells": [
  {
   "cell_type": "code",
   "execution_count": 1,
   "id": "d9644634",
   "metadata": {},
   "outputs": [],
   "source": [
    "import pandas as pd ##imports pandas as pd\n",
    "import numpy as np ##imports numpy as np\n",
    "\n",
    "import matplotlib.pyplot as plt ##imports matplotlib.pyplot as plt\n",
    "import seaborn as sns ##imports seaborn as sns\n",
    "\n",
    "import csv ##imports csv"
   ]
  },
  {
   "cell_type": "code",
   "execution_count": null,
   "id": "28ebeb7e",
   "metadata": {},
   "outputs": [],
   "source": [
    "df = pd.read_csv('household_energy_consumption.csv') ##reads the csv file and stores it in a dataframe called df"
   ]
  },
  {
   "cell_type": "code",
   "execution_count": 3,
   "id": "0f243c40",
   "metadata": {},
   "outputs": [
    {
     "data": {
      "text/html": [
       "<div>\n",
       "<style scoped>\n",
       "    .dataframe tbody tr th:only-of-type {\n",
       "        vertical-align: middle;\n",
       "    }\n",
       "\n",
       "    .dataframe tbody tr th {\n",
       "        vertical-align: top;\n",
       "    }\n",
       "\n",
       "    .dataframe thead th {\n",
       "        text-align: right;\n",
       "    }\n",
       "</style>\n",
       "<table border=\"1\" class=\"dataframe\">\n",
       "  <thead>\n",
       "    <tr style=\"text-align: right;\">\n",
       "      <th></th>\n",
       "      <th>Household_ID</th>\n",
       "      <th>Date</th>\n",
       "      <th>Energy_Consumption_kWh</th>\n",
       "      <th>Household_Size</th>\n",
       "      <th>Avg_Temperature_C</th>\n",
       "      <th>Has_AC</th>\n",
       "      <th>Peak_Hours_Usage_kWh</th>\n",
       "    </tr>\n",
       "  </thead>\n",
       "  <tbody>\n",
       "    <tr>\n",
       "      <th>0</th>\n",
       "      <td>H00001</td>\n",
       "      <td>2025-04-01</td>\n",
       "      <td>8.4</td>\n",
       "      <td>4</td>\n",
       "      <td>17.8</td>\n",
       "      <td>No</td>\n",
       "      <td>3.2</td>\n",
       "    </tr>\n",
       "    <tr>\n",
       "      <th>1</th>\n",
       "      <td>H00001</td>\n",
       "      <td>2025-04-02</td>\n",
       "      <td>7.9</td>\n",
       "      <td>4</td>\n",
       "      <td>17.3</td>\n",
       "      <td>No</td>\n",
       "      <td>2.8</td>\n",
       "    </tr>\n",
       "    <tr>\n",
       "      <th>2</th>\n",
       "      <td>H00001</td>\n",
       "      <td>2025-04-03</td>\n",
       "      <td>9.2</td>\n",
       "      <td>4</td>\n",
       "      <td>18.6</td>\n",
       "      <td>No</td>\n",
       "      <td>3.0</td>\n",
       "    </tr>\n",
       "    <tr>\n",
       "      <th>3</th>\n",
       "      <td>H00001</td>\n",
       "      <td>2025-04-04</td>\n",
       "      <td>7.9</td>\n",
       "      <td>4</td>\n",
       "      <td>18.2</td>\n",
       "      <td>No</td>\n",
       "      <td>2.7</td>\n",
       "    </tr>\n",
       "    <tr>\n",
       "      <th>4</th>\n",
       "      <td>H00001</td>\n",
       "      <td>2025-04-05</td>\n",
       "      <td>9.6</td>\n",
       "      <td>4</td>\n",
       "      <td>11.9</td>\n",
       "      <td>No</td>\n",
       "      <td>3.2</td>\n",
       "    </tr>\n",
       "    <tr>\n",
       "      <th>...</th>\n",
       "      <td>...</td>\n",
       "      <td>...</td>\n",
       "      <td>...</td>\n",
       "      <td>...</td>\n",
       "      <td>...</td>\n",
       "      <td>...</td>\n",
       "      <td>...</td>\n",
       "    </tr>\n",
       "    <tr>\n",
       "      <th>89995</th>\n",
       "      <td>H12857</td>\n",
       "      <td>2025-04-04</td>\n",
       "      <td>5.0</td>\n",
       "      <td>2</td>\n",
       "      <td>19.3</td>\n",
       "      <td>No</td>\n",
       "      <td>1.5</td>\n",
       "    </tr>\n",
       "    <tr>\n",
       "      <th>89996</th>\n",
       "      <td>H12857</td>\n",
       "      <td>2025-04-05</td>\n",
       "      <td>5.3</td>\n",
       "      <td>2</td>\n",
       "      <td>16.1</td>\n",
       "      <td>No</td>\n",
       "      <td>1.7</td>\n",
       "    </tr>\n",
       "    <tr>\n",
       "      <th>89997</th>\n",
       "      <td>H12857</td>\n",
       "      <td>2025-04-06</td>\n",
       "      <td>4.3</td>\n",
       "      <td>2</td>\n",
       "      <td>14.6</td>\n",
       "      <td>No</td>\n",
       "      <td>1.5</td>\n",
       "    </tr>\n",
       "    <tr>\n",
       "      <th>89998</th>\n",
       "      <td>H12857</td>\n",
       "      <td>2025-04-07</td>\n",
       "      <td>7.2</td>\n",
       "      <td>2</td>\n",
       "      <td>18.2</td>\n",
       "      <td>No</td>\n",
       "      <td>2.6</td>\n",
       "    </tr>\n",
       "    <tr>\n",
       "      <th>89999</th>\n",
       "      <td>H12857</td>\n",
       "      <td>2025-04-08</td>\n",
       "      <td>7.2</td>\n",
       "      <td>2</td>\n",
       "      <td>18.2</td>\n",
       "      <td>No</td>\n",
       "      <td>2.6</td>\n",
       "    </tr>\n",
       "  </tbody>\n",
       "</table>\n",
       "<p>90000 rows × 7 columns</p>\n",
       "</div>"
      ],
      "text/plain": [
       "      Household_ID        Date  Energy_Consumption_kWh  Household_Size  \\\n",
       "0           H00001  2025-04-01                     8.4               4   \n",
       "1           H00001  2025-04-02                     7.9               4   \n",
       "2           H00001  2025-04-03                     9.2               4   \n",
       "3           H00001  2025-04-04                     7.9               4   \n",
       "4           H00001  2025-04-05                     9.6               4   \n",
       "...            ...         ...                     ...             ...   \n",
       "89995       H12857  2025-04-04                     5.0               2   \n",
       "89996       H12857  2025-04-05                     5.3               2   \n",
       "89997       H12857  2025-04-06                     4.3               2   \n",
       "89998       H12857  2025-04-07                     7.2               2   \n",
       "89999       H12857  2025-04-08                     7.2               2   \n",
       "\n",
       "       Avg_Temperature_C Has_AC  Peak_Hours_Usage_kWh  \n",
       "0                   17.8     No                   3.2  \n",
       "1                   17.3     No                   2.8  \n",
       "2                   18.6     No                   3.0  \n",
       "3                   18.2     No                   2.7  \n",
       "4                   11.9     No                   3.2  \n",
       "...                  ...    ...                   ...  \n",
       "89995               19.3     No                   1.5  \n",
       "89996               16.1     No                   1.7  \n",
       "89997               14.6     No                   1.5  \n",
       "89998               18.2     No                   2.6  \n",
       "89999               18.2     No                   2.6  \n",
       "\n",
       "[90000 rows x 7 columns]"
      ]
     },
     "metadata": {},
     "output_type": "display_data"
    }
   ],
   "source": [
    "display(df) ##displays the dataframe\n"
   ]
  },
  {
   "cell_type": "code",
   "execution_count": 4,
   "id": "bee03985",
   "metadata": {},
   "outputs": [
    {
     "name": "stdout",
     "output_type": "stream",
     "text": [
      "<class 'pandas.core.frame.DataFrame'>\n",
      "RangeIndex: 90000 entries, 0 to 89999\n",
      "Data columns (total 7 columns):\n",
      " #   Column                  Non-Null Count  Dtype  \n",
      "---  ------                  --------------  -----  \n",
      " 0   Household_ID            90000 non-null  object \n",
      " 1   Date                    90000 non-null  object \n",
      " 2   Energy_Consumption_kWh  90000 non-null  float64\n",
      " 3   Household_Size          90000 non-null  int64  \n",
      " 4   Avg_Temperature_C       90000 non-null  float64\n",
      " 5   Has_AC                  90000 non-null  object \n",
      " 6   Peak_Hours_Usage_kWh    90000 non-null  float64\n",
      "dtypes: float64(3), int64(1), object(3)\n",
      "memory usage: 4.8+ MB\n"
     ]
    }
   ],
   "source": [
    "df.info() ##displays the information about the dataframe"
   ]
  },
  {
   "cell_type": "code",
   "execution_count": 5,
   "id": "9cbb7b75",
   "metadata": {},
   "outputs": [],
   "source": [
    "df['Date'] = pd.to_datetime(df['Date']) ##converts the 'Date' column to datetime format"
   ]
  },
  {
   "cell_type": "code",
   "execution_count": 7,
   "id": "1a2d73c8",
   "metadata": {},
   "outputs": [
    {
     "data": {
      "text/plain": [
       "Household_ID              0\n",
       "Date                      0\n",
       "Energy_Consumption_kWh    0\n",
       "Household_Size            0\n",
       "Avg_Temperature_C         0\n",
       "Has_AC                    0\n",
       "Peak_Hours_Usage_kWh      0\n",
       "dtype: int64"
      ]
     },
     "execution_count": 7,
     "metadata": {},
     "output_type": "execute_result"
    }
   ],
   "source": [
    "df.isnull().sum() ##checks for null values in the dataframe"
   ]
  },
  {
   "cell_type": "code",
   "execution_count": 8,
   "id": "14bde1ca",
   "metadata": {},
   "outputs": [
    {
     "data": {
      "text/plain": [
       "Index(['Household_ID', 'Date', 'Energy_Consumption_kWh', 'Household_Size',\n",
       "       'Avg_Temperature_C', 'Has_AC', 'Peak_Hours_Usage_kWh'],\n",
       "      dtype='object')"
      ]
     },
     "execution_count": 8,
     "metadata": {},
     "output_type": "execute_result"
    }
   ],
   "source": [
    "df.columns ##displays the columns in the dataframe"
   ]
  },
  {
   "cell_type": "code",
   "execution_count": 9,
   "id": "77686b92",
   "metadata": {},
   "outputs": [],
   "source": [
    "df = df.rename(columns={'Household_ID': 'Household ID' , 'Energy_Consumption_kWh': 'Energy Consumption KWH',\n",
    "                        'Household_Size': 'Household Size', 'Avg_Temperature_C': 'Avg Temperature C',\n",
    "                        'Has_AC': 'Has AC', 'Peak_Hours_Usage_kWh': 'Peak Hours Usage KWH'}) ##renames the columns in the dataframe\n",
    "\n",
    "    "
   ]
  },
  {
   "cell_type": "code",
   "execution_count": 10,
   "id": "f66d5542",
   "metadata": {},
   "outputs": [
    {
     "data": {
      "text/html": [
       "<div>\n",
       "<style scoped>\n",
       "    .dataframe tbody tr th:only-of-type {\n",
       "        vertical-align: middle;\n",
       "    }\n",
       "\n",
       "    .dataframe tbody tr th {\n",
       "        vertical-align: top;\n",
       "    }\n",
       "\n",
       "    .dataframe thead th {\n",
       "        text-align: right;\n",
       "    }\n",
       "</style>\n",
       "<table border=\"1\" class=\"dataframe\">\n",
       "  <thead>\n",
       "    <tr style=\"text-align: right;\">\n",
       "      <th></th>\n",
       "      <th>Household ID</th>\n",
       "      <th>Date</th>\n",
       "      <th>Energy Consumption KWH</th>\n",
       "      <th>Household Size</th>\n",
       "      <th>Avg Temperature C</th>\n",
       "      <th>Has AC</th>\n",
       "      <th>Peak Hours Usage KWH</th>\n",
       "    </tr>\n",
       "  </thead>\n",
       "  <tbody>\n",
       "    <tr>\n",
       "      <th>0</th>\n",
       "      <td>H00001</td>\n",
       "      <td>2025-04-01</td>\n",
       "      <td>8.4</td>\n",
       "      <td>4</td>\n",
       "      <td>17.8</td>\n",
       "      <td>No</td>\n",
       "      <td>3.2</td>\n",
       "    </tr>\n",
       "    <tr>\n",
       "      <th>1</th>\n",
       "      <td>H00001</td>\n",
       "      <td>2025-04-02</td>\n",
       "      <td>7.9</td>\n",
       "      <td>4</td>\n",
       "      <td>17.3</td>\n",
       "      <td>No</td>\n",
       "      <td>2.8</td>\n",
       "    </tr>\n",
       "    <tr>\n",
       "      <th>2</th>\n",
       "      <td>H00001</td>\n",
       "      <td>2025-04-03</td>\n",
       "      <td>9.2</td>\n",
       "      <td>4</td>\n",
       "      <td>18.6</td>\n",
       "      <td>No</td>\n",
       "      <td>3.0</td>\n",
       "    </tr>\n",
       "    <tr>\n",
       "      <th>3</th>\n",
       "      <td>H00001</td>\n",
       "      <td>2025-04-04</td>\n",
       "      <td>7.9</td>\n",
       "      <td>4</td>\n",
       "      <td>18.2</td>\n",
       "      <td>No</td>\n",
       "      <td>2.7</td>\n",
       "    </tr>\n",
       "    <tr>\n",
       "      <th>4</th>\n",
       "      <td>H00001</td>\n",
       "      <td>2025-04-05</td>\n",
       "      <td>9.6</td>\n",
       "      <td>4</td>\n",
       "      <td>11.9</td>\n",
       "      <td>No</td>\n",
       "      <td>3.2</td>\n",
       "    </tr>\n",
       "    <tr>\n",
       "      <th>...</th>\n",
       "      <td>...</td>\n",
       "      <td>...</td>\n",
       "      <td>...</td>\n",
       "      <td>...</td>\n",
       "      <td>...</td>\n",
       "      <td>...</td>\n",
       "      <td>...</td>\n",
       "    </tr>\n",
       "    <tr>\n",
       "      <th>89995</th>\n",
       "      <td>H12857</td>\n",
       "      <td>2025-04-04</td>\n",
       "      <td>5.0</td>\n",
       "      <td>2</td>\n",
       "      <td>19.3</td>\n",
       "      <td>No</td>\n",
       "      <td>1.5</td>\n",
       "    </tr>\n",
       "    <tr>\n",
       "      <th>89996</th>\n",
       "      <td>H12857</td>\n",
       "      <td>2025-04-05</td>\n",
       "      <td>5.3</td>\n",
       "      <td>2</td>\n",
       "      <td>16.1</td>\n",
       "      <td>No</td>\n",
       "      <td>1.7</td>\n",
       "    </tr>\n",
       "    <tr>\n",
       "      <th>89997</th>\n",
       "      <td>H12857</td>\n",
       "      <td>2025-04-06</td>\n",
       "      <td>4.3</td>\n",
       "      <td>2</td>\n",
       "      <td>14.6</td>\n",
       "      <td>No</td>\n",
       "      <td>1.5</td>\n",
       "    </tr>\n",
       "    <tr>\n",
       "      <th>89998</th>\n",
       "      <td>H12857</td>\n",
       "      <td>2025-04-07</td>\n",
       "      <td>7.2</td>\n",
       "      <td>2</td>\n",
       "      <td>18.2</td>\n",
       "      <td>No</td>\n",
       "      <td>2.6</td>\n",
       "    </tr>\n",
       "    <tr>\n",
       "      <th>89999</th>\n",
       "      <td>H12857</td>\n",
       "      <td>2025-04-08</td>\n",
       "      <td>7.2</td>\n",
       "      <td>2</td>\n",
       "      <td>18.2</td>\n",
       "      <td>No</td>\n",
       "      <td>2.6</td>\n",
       "    </tr>\n",
       "  </tbody>\n",
       "</table>\n",
       "<p>90000 rows × 7 columns</p>\n",
       "</div>"
      ],
      "text/plain": [
       "      Household ID       Date  Energy Consumption KWH  Household Size  \\\n",
       "0           H00001 2025-04-01                     8.4               4   \n",
       "1           H00001 2025-04-02                     7.9               4   \n",
       "2           H00001 2025-04-03                     9.2               4   \n",
       "3           H00001 2025-04-04                     7.9               4   \n",
       "4           H00001 2025-04-05                     9.6               4   \n",
       "...            ...        ...                     ...             ...   \n",
       "89995       H12857 2025-04-04                     5.0               2   \n",
       "89996       H12857 2025-04-05                     5.3               2   \n",
       "89997       H12857 2025-04-06                     4.3               2   \n",
       "89998       H12857 2025-04-07                     7.2               2   \n",
       "89999       H12857 2025-04-08                     7.2               2   \n",
       "\n",
       "       Avg Temperature C Has AC  Peak Hours Usage KWH  \n",
       "0                   17.8     No                   3.2  \n",
       "1                   17.3     No                   2.8  \n",
       "2                   18.6     No                   3.0  \n",
       "3                   18.2     No                   2.7  \n",
       "4                   11.9     No                   3.2  \n",
       "...                  ...    ...                   ...  \n",
       "89995               19.3     No                   1.5  \n",
       "89996               16.1     No                   1.7  \n",
       "89997               14.6     No                   1.5  \n",
       "89998               18.2     No                   2.6  \n",
       "89999               18.2     No                   2.6  \n",
       "\n",
       "[90000 rows x 7 columns]"
      ]
     },
     "metadata": {},
     "output_type": "display_data"
    }
   ],
   "source": [
    "display(df) ##displays the dataframe with the new column names"
   ]
  },
  {
   "cell_type": "code",
   "execution_count": 11,
   "id": "320d7e31",
   "metadata": {},
   "outputs": [],
   "source": [
    "df.drop(columns=['Household ID'], inplace=True) ##drops the 'Household ID' column from the dataframe"
   ]
  },
  {
   "cell_type": "code",
   "execution_count": 12,
   "id": "e29fa341",
   "metadata": {},
   "outputs": [
    {
     "data": {
      "text/html": [
       "<div>\n",
       "<style scoped>\n",
       "    .dataframe tbody tr th:only-of-type {\n",
       "        vertical-align: middle;\n",
       "    }\n",
       "\n",
       "    .dataframe tbody tr th {\n",
       "        vertical-align: top;\n",
       "    }\n",
       "\n",
       "    .dataframe thead th {\n",
       "        text-align: right;\n",
       "    }\n",
       "</style>\n",
       "<table border=\"1\" class=\"dataframe\">\n",
       "  <thead>\n",
       "    <tr style=\"text-align: right;\">\n",
       "      <th></th>\n",
       "      <th>Date</th>\n",
       "      <th>Energy Consumption KWH</th>\n",
       "      <th>Household Size</th>\n",
       "      <th>Avg Temperature C</th>\n",
       "      <th>Has AC</th>\n",
       "      <th>Peak Hours Usage KWH</th>\n",
       "    </tr>\n",
       "  </thead>\n",
       "  <tbody>\n",
       "    <tr>\n",
       "      <th>0</th>\n",
       "      <td>2025-04-01</td>\n",
       "      <td>8.4</td>\n",
       "      <td>4</td>\n",
       "      <td>17.8</td>\n",
       "      <td>No</td>\n",
       "      <td>3.2</td>\n",
       "    </tr>\n",
       "    <tr>\n",
       "      <th>1</th>\n",
       "      <td>2025-04-02</td>\n",
       "      <td>7.9</td>\n",
       "      <td>4</td>\n",
       "      <td>17.3</td>\n",
       "      <td>No</td>\n",
       "      <td>2.8</td>\n",
       "    </tr>\n",
       "    <tr>\n",
       "      <th>2</th>\n",
       "      <td>2025-04-03</td>\n",
       "      <td>9.2</td>\n",
       "      <td>4</td>\n",
       "      <td>18.6</td>\n",
       "      <td>No</td>\n",
       "      <td>3.0</td>\n",
       "    </tr>\n",
       "    <tr>\n",
       "      <th>3</th>\n",
       "      <td>2025-04-04</td>\n",
       "      <td>7.9</td>\n",
       "      <td>4</td>\n",
       "      <td>18.2</td>\n",
       "      <td>No</td>\n",
       "      <td>2.7</td>\n",
       "    </tr>\n",
       "    <tr>\n",
       "      <th>4</th>\n",
       "      <td>2025-04-05</td>\n",
       "      <td>9.6</td>\n",
       "      <td>4</td>\n",
       "      <td>11.9</td>\n",
       "      <td>No</td>\n",
       "      <td>3.2</td>\n",
       "    </tr>\n",
       "    <tr>\n",
       "      <th>...</th>\n",
       "      <td>...</td>\n",
       "      <td>...</td>\n",
       "      <td>...</td>\n",
       "      <td>...</td>\n",
       "      <td>...</td>\n",
       "      <td>...</td>\n",
       "    </tr>\n",
       "    <tr>\n",
       "      <th>89995</th>\n",
       "      <td>2025-04-04</td>\n",
       "      <td>5.0</td>\n",
       "      <td>2</td>\n",
       "      <td>19.3</td>\n",
       "      <td>No</td>\n",
       "      <td>1.5</td>\n",
       "    </tr>\n",
       "    <tr>\n",
       "      <th>89996</th>\n",
       "      <td>2025-04-05</td>\n",
       "      <td>5.3</td>\n",
       "      <td>2</td>\n",
       "      <td>16.1</td>\n",
       "      <td>No</td>\n",
       "      <td>1.7</td>\n",
       "    </tr>\n",
       "    <tr>\n",
       "      <th>89997</th>\n",
       "      <td>2025-04-06</td>\n",
       "      <td>4.3</td>\n",
       "      <td>2</td>\n",
       "      <td>14.6</td>\n",
       "      <td>No</td>\n",
       "      <td>1.5</td>\n",
       "    </tr>\n",
       "    <tr>\n",
       "      <th>89998</th>\n",
       "      <td>2025-04-07</td>\n",
       "      <td>7.2</td>\n",
       "      <td>2</td>\n",
       "      <td>18.2</td>\n",
       "      <td>No</td>\n",
       "      <td>2.6</td>\n",
       "    </tr>\n",
       "    <tr>\n",
       "      <th>89999</th>\n",
       "      <td>2025-04-08</td>\n",
       "      <td>7.2</td>\n",
       "      <td>2</td>\n",
       "      <td>18.2</td>\n",
       "      <td>No</td>\n",
       "      <td>2.6</td>\n",
       "    </tr>\n",
       "  </tbody>\n",
       "</table>\n",
       "<p>90000 rows × 6 columns</p>\n",
       "</div>"
      ],
      "text/plain": [
       "            Date  Energy Consumption KWH  Household Size  Avg Temperature C  \\\n",
       "0     2025-04-01                     8.4               4               17.8   \n",
       "1     2025-04-02                     7.9               4               17.3   \n",
       "2     2025-04-03                     9.2               4               18.6   \n",
       "3     2025-04-04                     7.9               4               18.2   \n",
       "4     2025-04-05                     9.6               4               11.9   \n",
       "...          ...                     ...             ...                ...   \n",
       "89995 2025-04-04                     5.0               2               19.3   \n",
       "89996 2025-04-05                     5.3               2               16.1   \n",
       "89997 2025-04-06                     4.3               2               14.6   \n",
       "89998 2025-04-07                     7.2               2               18.2   \n",
       "89999 2025-04-08                     7.2               2               18.2   \n",
       "\n",
       "      Has AC  Peak Hours Usage KWH  \n",
       "0         No                   3.2  \n",
       "1         No                   2.8  \n",
       "2         No                   3.0  \n",
       "3         No                   2.7  \n",
       "4         No                   3.2  \n",
       "...      ...                   ...  \n",
       "89995     No                   1.5  \n",
       "89996     No                   1.7  \n",
       "89997     No                   1.5  \n",
       "89998     No                   2.6  \n",
       "89999     No                   2.6  \n",
       "\n",
       "[90000 rows x 6 columns]"
      ]
     },
     "metadata": {},
     "output_type": "display_data"
    }
   ],
   "source": [
    "display(df) ##displays the dataframe with the new column names"
   ]
  },
  {
   "cell_type": "code",
   "execution_count": 13,
   "id": "be6fc08c",
   "metadata": {},
   "outputs": [],
   "source": [
    "df = pd.get_dummies(df, columns=['Has AC'], drop_first=True) ##converts the 'Has AC' column to dummy variables and drops the first column"
   ]
  },
  {
   "cell_type": "code",
   "execution_count": 14,
   "id": "ff83c123",
   "metadata": {},
   "outputs": [
    {
     "data": {
      "text/html": [
       "<div>\n",
       "<style scoped>\n",
       "    .dataframe tbody tr th:only-of-type {\n",
       "        vertical-align: middle;\n",
       "    }\n",
       "\n",
       "    .dataframe tbody tr th {\n",
       "        vertical-align: top;\n",
       "    }\n",
       "\n",
       "    .dataframe thead th {\n",
       "        text-align: right;\n",
       "    }\n",
       "</style>\n",
       "<table border=\"1\" class=\"dataframe\">\n",
       "  <thead>\n",
       "    <tr style=\"text-align: right;\">\n",
       "      <th></th>\n",
       "      <th>Date</th>\n",
       "      <th>Energy Consumption KWH</th>\n",
       "      <th>Household Size</th>\n",
       "      <th>Avg Temperature C</th>\n",
       "      <th>Peak Hours Usage KWH</th>\n",
       "      <th>Has AC_Yes</th>\n",
       "    </tr>\n",
       "  </thead>\n",
       "  <tbody>\n",
       "    <tr>\n",
       "      <th>0</th>\n",
       "      <td>2025-04-01</td>\n",
       "      <td>8.4</td>\n",
       "      <td>4</td>\n",
       "      <td>17.8</td>\n",
       "      <td>3.2</td>\n",
       "      <td>False</td>\n",
       "    </tr>\n",
       "    <tr>\n",
       "      <th>1</th>\n",
       "      <td>2025-04-02</td>\n",
       "      <td>7.9</td>\n",
       "      <td>4</td>\n",
       "      <td>17.3</td>\n",
       "      <td>2.8</td>\n",
       "      <td>False</td>\n",
       "    </tr>\n",
       "    <tr>\n",
       "      <th>2</th>\n",
       "      <td>2025-04-03</td>\n",
       "      <td>9.2</td>\n",
       "      <td>4</td>\n",
       "      <td>18.6</td>\n",
       "      <td>3.0</td>\n",
       "      <td>False</td>\n",
       "    </tr>\n",
       "    <tr>\n",
       "      <th>3</th>\n",
       "      <td>2025-04-04</td>\n",
       "      <td>7.9</td>\n",
       "      <td>4</td>\n",
       "      <td>18.2</td>\n",
       "      <td>2.7</td>\n",
       "      <td>False</td>\n",
       "    </tr>\n",
       "    <tr>\n",
       "      <th>4</th>\n",
       "      <td>2025-04-05</td>\n",
       "      <td>9.6</td>\n",
       "      <td>4</td>\n",
       "      <td>11.9</td>\n",
       "      <td>3.2</td>\n",
       "      <td>False</td>\n",
       "    </tr>\n",
       "    <tr>\n",
       "      <th>...</th>\n",
       "      <td>...</td>\n",
       "      <td>...</td>\n",
       "      <td>...</td>\n",
       "      <td>...</td>\n",
       "      <td>...</td>\n",
       "      <td>...</td>\n",
       "    </tr>\n",
       "    <tr>\n",
       "      <th>89995</th>\n",
       "      <td>2025-04-04</td>\n",
       "      <td>5.0</td>\n",
       "      <td>2</td>\n",
       "      <td>19.3</td>\n",
       "      <td>1.5</td>\n",
       "      <td>False</td>\n",
       "    </tr>\n",
       "    <tr>\n",
       "      <th>89996</th>\n",
       "      <td>2025-04-05</td>\n",
       "      <td>5.3</td>\n",
       "      <td>2</td>\n",
       "      <td>16.1</td>\n",
       "      <td>1.7</td>\n",
       "      <td>False</td>\n",
       "    </tr>\n",
       "    <tr>\n",
       "      <th>89997</th>\n",
       "      <td>2025-04-06</td>\n",
       "      <td>4.3</td>\n",
       "      <td>2</td>\n",
       "      <td>14.6</td>\n",
       "      <td>1.5</td>\n",
       "      <td>False</td>\n",
       "    </tr>\n",
       "    <tr>\n",
       "      <th>89998</th>\n",
       "      <td>2025-04-07</td>\n",
       "      <td>7.2</td>\n",
       "      <td>2</td>\n",
       "      <td>18.2</td>\n",
       "      <td>2.6</td>\n",
       "      <td>False</td>\n",
       "    </tr>\n",
       "    <tr>\n",
       "      <th>89999</th>\n",
       "      <td>2025-04-08</td>\n",
       "      <td>7.2</td>\n",
       "      <td>2</td>\n",
       "      <td>18.2</td>\n",
       "      <td>2.6</td>\n",
       "      <td>False</td>\n",
       "    </tr>\n",
       "  </tbody>\n",
       "</table>\n",
       "<p>90000 rows × 6 columns</p>\n",
       "</div>"
      ],
      "text/plain": [
       "            Date  Energy Consumption KWH  Household Size  Avg Temperature C  \\\n",
       "0     2025-04-01                     8.4               4               17.8   \n",
       "1     2025-04-02                     7.9               4               17.3   \n",
       "2     2025-04-03                     9.2               4               18.6   \n",
       "3     2025-04-04                     7.9               4               18.2   \n",
       "4     2025-04-05                     9.6               4               11.9   \n",
       "...          ...                     ...             ...                ...   \n",
       "89995 2025-04-04                     5.0               2               19.3   \n",
       "89996 2025-04-05                     5.3               2               16.1   \n",
       "89997 2025-04-06                     4.3               2               14.6   \n",
       "89998 2025-04-07                     7.2               2               18.2   \n",
       "89999 2025-04-08                     7.2               2               18.2   \n",
       "\n",
       "       Peak Hours Usage KWH  Has AC_Yes  \n",
       "0                       3.2       False  \n",
       "1                       2.8       False  \n",
       "2                       3.0       False  \n",
       "3                       2.7       False  \n",
       "4                       3.2       False  \n",
       "...                     ...         ...  \n",
       "89995                   1.5       False  \n",
       "89996                   1.7       False  \n",
       "89997                   1.5       False  \n",
       "89998                   2.6       False  \n",
       "89999                   2.6       False  \n",
       "\n",
       "[90000 rows x 6 columns]"
      ]
     },
     "metadata": {},
     "output_type": "display_data"
    }
   ],
   "source": [
    "display(df) ##displays the dataframe with the new column names"
   ]
  },
  {
   "cell_type": "code",
   "execution_count": 15,
   "id": "60205b94",
   "metadata": {},
   "outputs": [
    {
     "data": {
      "text/plain": [
       "Date\n",
       "2025-04-01    12857\n",
       "2025-04-02    12857\n",
       "2025-04-03    12857\n",
       "2025-04-04    12857\n",
       "2025-04-05    12857\n",
       "2025-04-06    12857\n",
       "2025-04-07    12857\n",
       "2025-04-08        1\n",
       "Name: count, dtype: int64"
      ]
     },
     "execution_count": 15,
     "metadata": {},
     "output_type": "execute_result"
    }
   ],
   "source": [
    "df['Date'].value_counts() ##counts the number of occurrences of each date in the 'Date' column"
   ]
  },
  {
   "cell_type": "code",
   "execution_count": 16,
   "id": "a7890330",
   "metadata": {},
   "outputs": [
    {
     "data": {
      "text/plain": [
       "Index(['Date', 'Energy Consumption KWH', 'Household Size', 'Avg Temperature C',\n",
       "       'Peak Hours Usage KWH', 'Has AC_Yes'],\n",
       "      dtype='object')"
      ]
     },
     "execution_count": 16,
     "metadata": {},
     "output_type": "execute_result"
    }
   ],
   "source": [
    "df.columns ##displays the columns in the dataframe"
   ]
  },
  {
   "cell_type": "code",
   "execution_count": 30,
   "id": "6ae1082b",
   "metadata": {},
   "outputs": [
    {
     "name": "stdout",
     "output_type": "stream",
     "text": [
      "The statistics on the Energy Consumption KWh column are as follows count    90000.000000\n",
      "mean        10.571988\n",
      "std          5.519494\n",
      "min          0.500000\n",
      "25%          6.000000\n",
      "50%         10.400000\n",
      "75%         14.800000\n",
      "max         20.000000\n",
      "Name: Energy Consumption KWH, dtype: float64\n"
     ]
    }
   ],
   "source": [
    "print('The statistics on the Energy Consumption KWh column are as follows ' + str(df['Energy Consumption KWH'].describe())) ##describes the 'Energy Consumption KWH' column"
   ]
  },
  {
   "cell_type": "code",
   "execution_count": 31,
   "id": "30c9d1c5",
   "metadata": {},
   "outputs": [
    {
     "data": {
      "text/plain": [
       "<Axes: >"
      ]
     },
     "execution_count": 31,
     "metadata": {},
     "output_type": "execute_result"
    },
    {
     "data": {
      "image/png": "[encoded data removed]",
      "text/plain": [
       "<Figure size 640x480 with 1 Axes>"
      ]
     },
     "metadata": {},
     "output_type": "display_data"
    }
   ],
   "source": [
    "df[\"Energy Consumption KWH\"].plot(kind='box') ##plots a boxplot of the 'Energy Consumption KWH' column"
   ]
  },
  {
   "cell_type": "code",
   "execution_count": 22,
   "id": "04b4b9d8",
   "metadata": {},
   "outputs": [
    {
     "data": {
      "text/plain": [
       "Text(0.5, 0, 'Energy Consumption KWH')"
      ]
     },
     "execution_count": 22,
     "metadata": {},
     "output_type": "execute_result"
    },
    {
     "data": {
      "image/png": "[encoded data removed]",
      "text/plain": [
       "<Figure size 640x480 with 1 Axes>"
      ]
     },
     "metadata": {},
     "output_type": "display_data"
    }
   ],
   "source": [
    "df['Energy Consumption KWH'].plot(kind='hist', bins=50) ##plots a histogram of the 'Energy Consumption KWH' column with 50 bins\n",
    "plt.title('Energy Consumption KWH Histogram') ##sets the title of the histogram\n",
    "plt.xlabel('Energy Consumption KWH') ##sets the x-axis label of the histogram\t"
   ]
  },
  {
   "cell_type": "code",
   "execution_count": 32,
   "id": "71f605d6",
   "metadata": {},
   "outputs": [
    {
     "data": {
      "text/plain": [
       "Index(['Date', 'Energy Consumption KWH', 'Household Size', 'Avg Temperature C',\n",
       "       'Peak Hours Usage KWH', 'Has AC_Yes'],\n",
       "      dtype='object')"
      ]
     },
     "execution_count": 32,
     "metadata": {},
     "output_type": "execute_result"
    }
   ],
   "source": [
    "df.columns ##displays the columns in the dataframe"
   ]
  },
  {
   "cell_type": "code",
   "execution_count": 33,
   "id": "4d67154f",
   "metadata": {},
   "outputs": [
    {
     "data": {
      "text/plain": [
       "count    90000.000000\n",
       "mean         3.487811\n",
       "std          1.709761\n",
       "min          1.000000\n",
       "25%          2.000000\n",
       "50%          3.000000\n",
       "75%          5.000000\n",
       "max          6.000000\n",
       "Name: Household Size, dtype: float64"
      ]
     },
     "execution_count": 33,
     "metadata": {},
     "output_type": "execute_result"
    }
   ],
   "source": [
    "df['Household Size'].describe() ##describes the 'Household Size' column"
   ]
  },
  {
   "cell_type": "code",
   "execution_count": 40,
   "id": "d4f49edf",
   "metadata": {},
   "outputs": [
    {
     "data": {
      "text/plain": [
       "Text(0.5, 0, 'Household Size')"
      ]
     },
     "execution_count": 40,
     "metadata": {},
     "output_type": "execute_result"
    },
    {
     "data": {
      "image/png": "[encoded data removed]",
      "text/plain": [
       "<Figure size 640x480 with 1 Axes>"
      ]
     },
     "metadata": {},
     "output_type": "display_data"
    }
   ],
   "source": [
    "df['Household Size'].plot(kind='hist' ) ##plots a histogram of the 'Household Size' column with 50 bins\n",
    "plt.title('Household Size Histogram') ##sets the title of the histogram\n",
    "plt.xlabel('Household Size') ##sets the x-axis label of the histogram"
   ]
  },
  {
   "cell_type": "code",
   "execution_count": 36,
   "id": "f9617ecd",
   "metadata": {},
   "outputs": [
    {
     "data": {
      "text/plain": [
       "count    90000.000000\n",
       "mean        17.505802\n",
       "std          2.491621\n",
       "min         10.000000\n",
       "25%         15.800000\n",
       "50%         17.500000\n",
       "75%         19.200000\n",
       "max         25.000000\n",
       "Name: Avg Temperature C, dtype: float64"
      ]
     },
     "execution_count": 36,
     "metadata": {},
     "output_type": "execute_result"
    }
   ],
   "source": [
    "df['Avg Temperature C'].describe() ##describes the 'Avg Temperature C' column\n"
   ]
  },
  {
   "cell_type": "code",
   "execution_count": 42,
   "metadata": {},
   "outputs": [
    {
     "data": {
      "text/plain": [
       "Text(0.5, 0, 'Avg Temperature C')"
      ]
     },
     "execution_count": 42,
     "metadata": {},
     "output_type": "execute_result"
    },
    {
     "data": {
      "image/png": "[encoded data removed]",
      "text/plain": [
       "<Figure size 640x480 with 1 Axes>"
      ]
     },
     "metadata": {},
     "output_type": "display_data"
    }
   ],
   "source": [
    "df['Avg Temperature C'].plot(kind='hist') ##plots a histogram of the 'Avg Temperature C' column with 50 bins\n",
    "plt.title('Avg Temperature C Histogram') ##sets the title of the histogram\n",
    "plt.xlabel('Avg Temperature C') ##sets the x-axis label of the histogram\t"
   ]
  },
  {
   "cell_type": "code",
   "execution_count": 43,
   "id": "32f0ae57",
   "metadata": {},
   "outputs": [
    {
     "data": {
      "text/plain": [
       "Index(['Date', 'Energy Consumption KWH', 'Household Size', 'Avg Temperature C',\n",
       "       'Peak Hours Usage KWH', 'Has AC_Yes'],\n",
       "      dtype='object')"
      ]
     },
     "execution_count": 43,
     "metadata": {},
     "output_type": "execute_result"
    }
   ],
   "source": [
    "df.columns ##displays the columns in the dataframe"
   ]
  },
  {
   "cell_type": "code",
   "execution_count": 44,
   "id": "f86237d4",
   "metadata": {},
   "outputs": [
    {
     "data": {
      "text/plain": [
       "count    90000.000000\n",
       "mean         4.319557\n",
       "std          2.531432\n",
       "min          0.200000\n",
       "25%          2.300000\n",
       "50%          4.000000\n",
       "75%          6.000000\n",
       "max         10.000000\n",
       "Name: Peak Hours Usage KWH, dtype: float64"
      ]
     },
     "execution_count": 44,
     "metadata": {},
     "output_type": "execute_result"
    }
   ],
   "source": [
    "df['Peak Hours Usage KWH'].describe() ##describes the 'Peak Hours Usage KWH' column"
   ]
  },
  {
   "cell_type": "code",
   "execution_count": 45,
   "id": "c9651667",
   "metadata": {},
   "outputs": [
    {
     "data": {
      "text/plain": [
       "Text(0.5, 0, 'Peak Hours Usage KWH')"
      ]
     },
     "execution_count": 45,
     "metadata": {},
     "output_type": "execute_result"
    },
    {
     "data": {
      "image/png": "[encoded data removed]",
      "text/plain": [
       "<Figure size 640x480 with 1 Axes>"
      ]
     },
     "metadata": {},
     "output_type": "display_data"
    }
   ],
   "source": [
    "df['Peak Hours Usage KWH'].plot(kind='hist') ##plots a histogram of the 'Peak Hours Usage KWH' column with 50 bins\n",
    "plt.title('Peak Hours Usage KWH Histogram') ##sets the title of the histogram\n",
    "plt.xlabel('Peak Hours Usage KWH') ##sets the x-axis label of the histogram\n"
   ]
  },
  {
   "cell_type": "code",
   "execution_count": null,
   "id": "f1879bd2",
   "metadata": {},
   "outputs": [
    {
     "data": {
      "text/plain": [
       "<Axes: xlabel='Has AC_Yes'>"
      ]
     },
     "execution_count": 47,
     "metadata": {},
     "output_type": "execute_result"
    },
    {
     "data": {
      "image/png": "[encoded data removed]",
      "text/plain": [
       "<Figure size 640x480 with 1 Axes>"
      ]
     },
     "metadata": {},
     "output_type": "display_data"
    }
   ],
   "source": [
    "df['Has AC_Yes'].value_counts().plot(kind='bar') ##describes the 'Has AC_Yes' column"
   ]
  },
  {
   "cell_type": "code",
   "execution_count": 49,
   "id": "25a65b61",
   "metadata": {},
   "outputs": [
    {
     "name": "stdout",
     "output_type": "stream",
     "text": [
      "The statistics on the Has AC_Yes column are as follows Has AC_Yes\n",
      "False    45508\n",
      "True     44492\n",
      "Name: count, dtype: int64\n"
     ]
    }
   ],
   "source": [
    "print('The statistics on the Has AC_Yes column are as follows ' + str(df['Has AC_Yes'].value_counts())) ##describes the 'Has AC_Yes' column"
   ]
  },
  {
   "cell_type": "code",
   "execution_count": 52,
   "metadata": {},
   "outputs": [
    {
     "data": {
      "text/plain": [
       "Text(0.5, 1.0, 'Correlation Matrix')"
      ]
     },
     "execution_count": 52,
     "metadata": {},
     "output_type": "execute_result"
    },
    {
     "data": {
      "image/png": "[encoded data removed]",
      "text/plain": [
       "<Figure size 640x480 with 2 Axes>"
      ]
     },
     "metadata": {},
     "output_type": "display_data"
    }
   ],
   "source": [
    "corr_matrix = df.corr() ##calculates the correlation matrix of the dataframe\n",
    "sns.heatmap(corr_matrix, annot=True, cmap='coolwarm') ##plots a heatmap of the correlation matrix\n",
    "plt.title('Correlation Matrix') ##sets the title of the heatmap\n"
   ]
  },
  {
   "cell_type": "markdown",
   "id": "d82a74d4",
   "metadata": {},
   "source": [
    "Initial finding suggest there is some correlations within the dataset. Correlations seen are Household Size : Energy Consumption KWh .89\n",
    "                                                                                             Peak Hours Usage : Energy Consumption KWh .97\n",
    "\t\t\t\t\t\t\t\t\t\t\t\t\t\t\t\t\t\t\t\t\t\t\t\t\t\t\t\t\t\t\t\t\t\t\t\t\t\t\t\t\t\t\t\t\t\t Has AC_Yes : Energy Consumtption KWh .35\n",
    "\t\t\t\t\t\t\t\t\t\t\t\t\t\t\t\t\t\t\t\t\t\t\t\t\t\t\t\t\t\t\t\t\t\t\t\t\t\t\t\t\t\t\t\t\t\t Peak Hours Usage KWh : Household Size .79\n",
    "\t\t\t\t\t\t\t\t\t\t\t\t\t\t\t\t\t\t\t\t\t\t\t\t\t\t\t\t\t\t\t\t\t\t\t\t\t\t\t\t\t\t\t\t\t\t Has AC_Yes : Peak Hours Usage KWh .51"
   ]
  },
  {
   "cell_type": "code",
   "execution_count": null,
   "metadata": {},
   "outputs": [],
   "source": []
  },
  {
   "cell_type": "code",
   "execution_count": null,
   "metadata": {},
   "outputs": [],
   "source": []
  },
  {
   "cell_type": "code",
   "execution_count": null,
   "id": "b277baa3",
   "metadata": {},
   "outputs": [],
   "source": []
  },
  {
   "cell_type": "code",
   "execution_count": null,
   "metadata": {},
   "outputs": [],
   "source": []
  },
  {
   "cell_type": "code",
   "execution_count": null,
   "id": "38c126f8",
   "metadata": {},
   "outputs": [],
   "source": []
  }
 ],
 "metadata": {
  "kernelspec": {
   "display_name": "Python 3",
   "language": "python",
   "name": "python3"
  },
  "language_info": {
   "codemirror_mode": {
    "name": "ipython",
    "version": 3
   },
   "file_extension": ".py",
   "mimetype": "text/x-python",
   "name": "python",
   "nbconvert_exporter": "python",
   "pygments_lexer": "ipython3",
   "version": "3.12.6"
  }
 },
 "nbformat": 4,
 "nbformat_minor": 5
}
