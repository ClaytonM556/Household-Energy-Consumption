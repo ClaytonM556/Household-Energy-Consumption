{
 "cells": [
  {
   "cell_type": "code",
   "execution_count": 1,
   "id": "d9644634",
   "metadata": {},
   "outputs": [],
   "source": [
    "import pandas as pd ##imports pandas as pd\n",
    "import numpy as np ##imports numpy as np\n",
    "\n",
    "import matplotlib.pyplot as plt ##imports matplotlib.pyplot as plt\n",
    "import seaborn as sns ##imports seaborn as sns\n",
    "\n",
    "import csv ##imports csv"
   ]
  },
  {
   "cell_type": "code",
   "execution_count": 2,
   "id": "28ebeb7e",
   "metadata": {},
   "outputs": [],
   "source": [
    "df = pd.read_csv('household_energy_consumption.csv')"
   ]
  },
  {
   "cell_type": "code",
   "execution_count": 3,
   "id": "0f243c40",
   "metadata": {},
   "outputs": [
    {
     "data": {
      "text/html": [
       "<div>\n",
       "<style scoped>\n",
       "    .dataframe tbody tr th:only-of-type {\n",
       "        vertical-align: middle;\n",
       "    }\n",
       "\n",
       "    .dataframe tbody tr th {\n",
       "        vertical-align: top;\n",
       "    }\n",
       "\n",
       "    .dataframe thead th {\n",
       "        text-align: right;\n",
       "    }\n",
       "</style>\n",
       "<table border=\"1\" class=\"dataframe\">\n",
       "  <thead>\n",
       "    <tr style=\"text-align: right;\">\n",
       "      <th></th>\n",
       "      <th>Household_ID</th>\n",
       "      <th>Date</th>\n",
       "      <th>Energy_Consumption_kWh</th>\n",
       "      <th>Household_Size</th>\n",
       "      <th>Avg_Temperature_C</th>\n",
       "      <th>Has_AC</th>\n",
       "      <th>Peak_Hours_Usage_kWh</th>\n",
       "    </tr>\n",
       "  </thead>\n",
       "  <tbody>\n",
       "    <tr>\n",
       "      <th>0</th>\n",
       "      <td>H00001</td>\n",
       "      <td>2025-04-01</td>\n",
       "      <td>8.4</td>\n",
       "      <td>4</td>\n",
       "      <td>17.8</td>\n",
       "      <td>No</td>\n",
       "      <td>3.2</td>\n",
       "    </tr>\n",
       "    <tr>\n",
       "      <th>1</th>\n",
       "      <td>H00001</td>\n",
       "      <td>2025-04-02</td>\n",
       "      <td>7.9</td>\n",
       "      <td>4</td>\n",
       "      <td>17.3</td>\n",
       "      <td>No</td>\n",
       "      <td>2.8</td>\n",
       "    </tr>\n",
       "    <tr>\n",
       "      <th>2</th>\n",
       "      <td>H00001</td>\n",
       "      <td>2025-04-03</td>\n",
       "      <td>9.2</td>\n",
       "      <td>4</td>\n",
       "      <td>18.6</td>\n",
       "      <td>No</td>\n",
       "      <td>3.0</td>\n",
       "    </tr>\n",
       "    <tr>\n",
       "      <th>3</th>\n",
       "      <td>H00001</td>\n",
       "      <td>2025-04-04</td>\n",
       "      <td>7.9</td>\n",
       "      <td>4</td>\n",
       "      <td>18.2</td>\n",
       "      <td>No</td>\n",
       "      <td>2.7</td>\n",
       "    </tr>\n",
       "    <tr>\n",
       "      <th>4</th>\n",
       "      <td>H00001</td>\n",
       "      <td>2025-04-05</td>\n",
       "      <td>9.6</td>\n",
       "      <td>4</td>\n",
       "      <td>11.9</td>\n",
       "      <td>No</td>\n",
       "      <td>3.2</td>\n",
       "    </tr>\n",
       "    <tr>\n",
       "      <th>...</th>\n",
       "      <td>...</td>\n",
       "      <td>...</td>\n",
       "      <td>...</td>\n",
       "      <td>...</td>\n",
       "      <td>...</td>\n",
       "      <td>...</td>\n",
       "      <td>...</td>\n",
       "    </tr>\n",
       "    <tr>\n",
       "      <th>89995</th>\n",
       "      <td>H12857</td>\n",
       "      <td>2025-04-04</td>\n",
       "      <td>5.0</td>\n",
       "      <td>2</td>\n",
       "      <td>19.3</td>\n",
       "      <td>No</td>\n",
       "      <td>1.5</td>\n",
       "    </tr>\n",
       "    <tr>\n",
       "      <th>89996</th>\n",
       "      <td>H12857</td>\n",
       "      <td>2025-04-05</td>\n",
       "      <td>5.3</td>\n",
       "      <td>2</td>\n",
       "      <td>16.1</td>\n",
       "      <td>No</td>\n",
       "      <td>1.7</td>\n",
       "    </tr>\n",
       "    <tr>\n",
       "      <th>89997</th>\n",
       "      <td>H12857</td>\n",
       "      <td>2025-04-06</td>\n",
       "      <td>4.3</td>\n",
       "      <td>2</td>\n",
       "      <td>14.6</td>\n",
       "      <td>No</td>\n",
       "      <td>1.5</td>\n",
       "    </tr>\n",
       "    <tr>\n",
       "      <th>89998</th>\n",
       "      <td>H12857</td>\n",
       "      <td>2025-04-07</td>\n",
       "      <td>7.2</td>\n",
       "      <td>2</td>\n",
       "      <td>18.2</td>\n",
       "      <td>No</td>\n",
       "      <td>2.6</td>\n",
       "    </tr>\n",
       "    <tr>\n",
       "      <th>89999</th>\n",
       "      <td>H12857</td>\n",
       "      <td>2025-04-08</td>\n",
       "      <td>7.2</td>\n",
       "      <td>2</td>\n",
       "      <td>18.2</td>\n",
       "      <td>No</td>\n",
       "      <td>2.6</td>\n",
       "    </tr>\n",
       "  </tbody>\n",
       "</table>\n",
       "<p>90000 rows × 7 columns</p>\n",
       "</div>"
      ],
      "text/plain": [
       "      Household_ID        Date  Energy_Consumption_kWh  Household_Size  \\\n",
       "0           H00001  2025-04-01                     8.4               4   \n",
       "1           H00001  2025-04-02                     7.9               4   \n",
       "2           H00001  2025-04-03                     9.2               4   \n",
       "3           H00001  2025-04-04                     7.9               4   \n",
       "4           H00001  2025-04-05                     9.6               4   \n",
       "...            ...         ...                     ...             ...   \n",
       "89995       H12857  2025-04-04                     5.0               2   \n",
       "89996       H12857  2025-04-05                     5.3               2   \n",
       "89997       H12857  2025-04-06                     4.3               2   \n",
       "89998       H12857  2025-04-07                     7.2               2   \n",
       "89999       H12857  2025-04-08                     7.2               2   \n",
       "\n",
       "       Avg_Temperature_C Has_AC  Peak_Hours_Usage_kWh  \n",
       "0                   17.8     No                   3.2  \n",
       "1                   17.3     No                   2.8  \n",
       "2                   18.6     No                   3.0  \n",
       "3                   18.2     No                   2.7  \n",
       "4                   11.9     No                   3.2  \n",
       "...                  ...    ...                   ...  \n",
       "89995               19.3     No                   1.5  \n",
       "89996               16.1     No                   1.7  \n",
       "89997               14.6     No                   1.5  \n",
       "89998               18.2     No                   2.6  \n",
       "89999               18.2     No                   2.6  \n",
       "\n",
       "[90000 rows x 7 columns]"
      ]
     },
     "metadata": {},
     "output_type": "display_data"
    }
   ],
   "source": [
    "display(df) ##displays the dataframe\n"
   ]
  },
  {
   "cell_type": "code",
   "execution_count": 4,
   "id": "bee03985",
   "metadata": {},
   "outputs": [
    {
     "name": "stdout",
     "output_type": "stream",
     "text": [
      "<class 'pandas.core.frame.DataFrame'>\n",
      "RangeIndex: 90000 entries, 0 to 89999\n",
      "Data columns (total 7 columns):\n",
      " #   Column                  Non-Null Count  Dtype  \n",
      "---  ------                  --------------  -----  \n",
      " 0   Household_ID            90000 non-null  object \n",
      " 1   Date                    90000 non-null  object \n",
      " 2   Energy_Consumption_kWh  90000 non-null  float64\n",
      " 3   Household_Size          90000 non-null  int64  \n",
      " 4   Avg_Temperature_C       90000 non-null  float64\n",
      " 5   Has_AC                  90000 non-null  object \n",
      " 6   Peak_Hours_Usage_kWh    90000 non-null  float64\n",
      "dtypes: float64(3), int64(1), object(3)\n",
      "memory usage: 4.8+ MB\n"
     ]
    }
   ],
   "source": [
    "df.info() ##displays the information about the dataframe"
   ]
  },
  {
   "cell_type": "code",
   "execution_count": null,
   "id": "5281de48",
   "metadata": {},
   "outputs": [],
   "source": []
  },
  {
   "cell_type": "code",
   "execution_count": 7,
   "id": "9cbb7b75",
   "metadata": {},
   "outputs": [],
   "source": [
    "df['Date'] = pd.to_datetime(df['Date']) ##converts the 'Date' column to datetime format"
   ]
  },
  {
   "cell_type": "code",
   "execution_count": 8,
   "id": "1a2d73c8",
   "metadata": {},
   "outputs": [
    {
     "data": {
      "text/plain": [
       "Household_ID              0\n",
       "Date                      0\n",
       "Energy_Consumption_kWh    0\n",
       "Household_Size            0\n",
       "Avg_Temperature_C         0\n",
       "Has_AC                    0\n",
       "Peak_Hours_Usage_kWh      0\n",
       "dtype: int64"
      ]
     },
     "execution_count": 8,
     "metadata": {},
     "output_type": "execute_result"
    }
   ],
   "source": [
    "df.isnull().sum()"
   ]
  },
  {
   "cell_type": "code",
   "execution_count": null,
   "id": "14bde1ca",
   "metadata": {},
   "outputs": [],
   "source": []
  },
  {
   "cell_type": "code",
   "execution_count": null,
   "id": "77686b92",
   "metadata": {},
   "outputs": [],
   "source": []
  },
  {
   "cell_type": "code",
   "execution_count": null,
   "id": "f66d5542",
   "metadata": {},
   "outputs": [],
   "source": []
  },
  {
   "cell_type": "code",
   "execution_count": null,
   "id": "320d7e31",
   "metadata": {},
   "outputs": [],
   "source": []
  }
 ],
 "metadata": {
  "kernelspec": {
   "display_name": "Python 3",
   "language": "python",
   "name": "python3"
  },
  "language_info": {
   "codemirror_mode": {
    "name": "ipython",
    "version": 3
   },
   "file_extension": ".py",
   "mimetype": "text/x-python",
   "name": "python",
   "nbconvert_exporter": "python",
   "pygments_lexer": "ipython3",
   "version": "3.12.6"
  }
 },
 "nbformat": 4,
 "nbformat_minor": 5
}
